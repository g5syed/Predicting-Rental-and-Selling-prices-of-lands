{
 "cells": [
  {
   "cell_type": "code",
   "execution_count": 1,
   "id": "b291d1be",
   "metadata": {},
   "outputs": [],
   "source": [
    "import numpy as np\n",
    "import pandas as pd\n",
    "from xgboost import XGBRegressor\n",
    "from sklearn import metrics\n",
    "from scipy import stats\n",
    "import matplotlib.pyplot as plt\n",
    "from sklearn.model_selection import train_test_split\n",
    "from sklearn.preprocessing import MinMaxScaler\n",
    "import seaborn as sns\n",
    "sns.set(style=\"darkgrid\", font_scale=1.2)"
   ]
  },
  {
   "cell_type": "code",
   "execution_count": 2,
   "id": "8be89f4f",
   "metadata": {},
   "outputs": [
    {
     "data": {
      "text/html": [
       "<div>\n",
       "<style scoped>\n",
       "    .dataframe tbody tr th:only-of-type {\n",
       "        vertical-align: middle;\n",
       "    }\n",
       "\n",
       "    .dataframe tbody tr th {\n",
       "        vertical-align: top;\n",
       "    }\n",
       "\n",
       "    .dataframe thead th {\n",
       "        text-align: right;\n",
       "    }\n",
       "</style>\n",
       "<table border=\"1\" class=\"dataframe\">\n",
       "  <thead>\n",
       "    <tr style=\"text-align: right;\">\n",
       "      <th></th>\n",
       "      <th>timestamp</th>\n",
       "      <th>villa</th>\n",
       "      <th>size</th>\n",
       "      <th>latitude</th>\n",
       "      <th>longitude</th>\n",
       "      <th>price</th>\n",
       "    </tr>\n",
       "  </thead>\n",
       "  <tbody>\n",
       "    <tr>\n",
       "      <th>count</th>\n",
       "      <td>2.403130e+05</td>\n",
       "      <td>240313.000000</td>\n",
       "      <td>240313.000000</td>\n",
       "      <td>240313.000000</td>\n",
       "      <td>240313.000000</td>\n",
       "      <td>240313.000000</td>\n",
       "    </tr>\n",
       "    <tr>\n",
       "      <th>mean</th>\n",
       "      <td>1.393203e+09</td>\n",
       "      <td>0.029595</td>\n",
       "      <td>1253.718559</td>\n",
       "      <td>25.100762</td>\n",
       "      <td>55.230110</td>\n",
       "      <td>13.726785</td>\n",
       "    </tr>\n",
       "    <tr>\n",
       "      <th>std</th>\n",
       "      <td>1.185367e+08</td>\n",
       "      <td>0.169467</td>\n",
       "      <td>1155.478975</td>\n",
       "      <td>0.058595</td>\n",
       "      <td>0.107643</td>\n",
       "      <td>0.812514</td>\n",
       "    </tr>\n",
       "    <tr>\n",
       "      <th>min</th>\n",
       "      <td>1.077926e+09</td>\n",
       "      <td>0.000000</td>\n",
       "      <td>1.000000</td>\n",
       "      <td>24.861898</td>\n",
       "      <td>55.027290</td>\n",
       "      <td>0.000000</td>\n",
       "    </tr>\n",
       "    <tr>\n",
       "      <th>25%</th>\n",
       "      <td>1.296950e+09</td>\n",
       "      <td>0.000000</td>\n",
       "      <td>711.000000</td>\n",
       "      <td>25.068769</td>\n",
       "      <td>55.143979</td>\n",
       "      <td>13.122363</td>\n",
       "    </tr>\n",
       "    <tr>\n",
       "      <th>50%</th>\n",
       "      <td>1.380586e+09</td>\n",
       "      <td>0.000000</td>\n",
       "      <td>957.000000</td>\n",
       "      <td>25.088770</td>\n",
       "      <td>55.205834</td>\n",
       "      <td>13.682317</td>\n",
       "    </tr>\n",
       "    <tr>\n",
       "      <th>75%</th>\n",
       "      <td>1.477267e+09</td>\n",
       "      <td>0.000000</td>\n",
       "      <td>1471.000000</td>\n",
       "      <td>25.161231</td>\n",
       "      <td>55.278923</td>\n",
       "      <td>14.274200</td>\n",
       "    </tr>\n",
       "    <tr>\n",
       "      <th>max</th>\n",
       "      <td>1.632614e+09</td>\n",
       "      <td>1.000000</td>\n",
       "      <td>44800.000000</td>\n",
       "      <td>25.305823</td>\n",
       "      <td>55.508141</td>\n",
       "      <td>19.644456</td>\n",
       "    </tr>\n",
       "  </tbody>\n",
       "</table>\n",
       "</div>"
      ],
      "text/plain": [
       "          timestamp          villa           size       latitude  \\\n",
       "count  2.403130e+05  240313.000000  240313.000000  240313.000000   \n",
       "mean   1.393203e+09       0.029595    1253.718559      25.100762   \n",
       "std    1.185367e+08       0.169467    1155.478975       0.058595   \n",
       "min    1.077926e+09       0.000000       1.000000      24.861898   \n",
       "25%    1.296950e+09       0.000000     711.000000      25.068769   \n",
       "50%    1.380586e+09       0.000000     957.000000      25.088770   \n",
       "75%    1.477267e+09       0.000000    1471.000000      25.161231   \n",
       "max    1.632614e+09       1.000000   44800.000000      25.305823   \n",
       "\n",
       "           longitude          price  \n",
       "count  240313.000000  240313.000000  \n",
       "mean       55.230110      13.726785  \n",
       "std         0.107643       0.812514  \n",
       "min        55.027290       0.000000  \n",
       "25%        55.143979      13.122363  \n",
       "50%        55.205834      13.682317  \n",
       "75%        55.278923      14.274200  \n",
       "max        55.508141      19.644456  "
      ]
     },
     "execution_count": 2,
     "metadata": {},
     "output_type": "execute_result"
    }
   ],
   "source": [
    "data = pd.read_csv('transactions_new.csv', sep=',')\n",
    "data.describe()"
   ]
  },
  {
   "cell_type": "code",
   "execution_count": 3,
   "id": "c4aaf11e",
   "metadata": {},
   "outputs": [
    {
     "data": {
      "text/plain": [
       "<seaborn.axisgrid.FacetGrid at 0x7f716008b430>"
      ]
     },
     "execution_count": 3,
     "metadata": {},
     "output_type": "execute_result"
    },
    {
     "data": {
      "image/png": "[encoded data removed]",
      "text/plain": [
       "<Figure size 648x360 with 1 Axes>"
      ]
     },
     "metadata": {},
     "output_type": "display_data"
    }
   ],
   "source": [
    "sns.displot(\n",
    "  data=data,\n",
    "  x=\"price\",\n",
    "  kind=\"hist\",\n",
    "  aspect=1.8\n",
    ")"
   ]
  },
  {
   "cell_type": "code",
   "execution_count": 4,
   "id": "05aa7f0b",
   "metadata": {},
   "outputs": [
    {
     "data": {
      "text/plain": [
       "timestamp    0\n",
       "villa        0\n",
       "size         0\n",
       "latitude     0\n",
       "longitude    0\n",
       "price        0\n",
       "dtype: int64"
      ]
     },
     "execution_count": 4,
     "metadata": {},
     "output_type": "execute_result"
    }
   ],
   "source": [
    "data.isna().sum()"
   ]
  },
  {
   "cell_type": "markdown",
   "id": "c5606079",
   "metadata": {},
   "source": [
    "load the models we saved in `updated` notebook and use that to overwrite asking and rental columns"
   ]
  },
  {
   "cell_type": "code",
   "execution_count": 6,
   "id": "d28be78b",
   "metadata": {},
   "outputs": [],
   "source": [
    "X = data.drop(['price', 'timestamp'], axis=1)\n",
    "y = data['price']"
   ]
  },
  {
   "cell_type": "code",
   "execution_count": 5,
   "id": "cd9f25b9",
   "metadata": {},
   "outputs": [],
   "source": [
    "import pickle\n",
    "# load the model from disk\n",
    "ask_model = pickle.load(open('ask_model.sav', 'rb'))\n",
    "ren_model = pickle.load(open('ren_model.sav', 'rb'))"
   ]
  },
  {
   "cell_type": "code",
   "execution_count": 7,
   "id": "36ecdd73",
   "metadata": {},
   "outputs": [
    {
     "data": {
      "text/html": [
       "<div>\n",
       "<style scoped>\n",
       "    .dataframe tbody tr th:only-of-type {\n",
       "        vertical-align: middle;\n",
       "    }\n",
       "\n",
       "    .dataframe tbody tr th {\n",
       "        vertical-align: top;\n",
       "    }\n",
       "\n",
       "    .dataframe thead th {\n",
       "        text-align: right;\n",
       "    }\n",
       "</style>\n",
       "<table border=\"1\" class=\"dataframe\">\n",
       "  <thead>\n",
       "    <tr style=\"text-align: right;\">\n",
       "      <th></th>\n",
       "      <th>timestamp</th>\n",
       "      <th>villa</th>\n",
       "      <th>size</th>\n",
       "      <th>latitude</th>\n",
       "      <th>longitude</th>\n",
       "      <th>price</th>\n",
       "      <th>asking</th>\n",
       "    </tr>\n",
       "  </thead>\n",
       "  <tbody>\n",
       "    <tr>\n",
       "      <th>0</th>\n",
       "      <td>1441152000</td>\n",
       "      <td>1</td>\n",
       "      <td>18675</td>\n",
       "      <td>25.245967</td>\n",
       "      <td>55.294998</td>\n",
       "      <td>15.607270</td>\n",
       "      <td>16.813404</td>\n",
       "    </tr>\n",
       "    <tr>\n",
       "      <th>1</th>\n",
       "      <td>1297555200</td>\n",
       "      <td>1</td>\n",
       "      <td>3600</td>\n",
       "      <td>25.224727</td>\n",
       "      <td>55.268742</td>\n",
       "      <td>14.269765</td>\n",
       "      <td>15.211076</td>\n",
       "    </tr>\n",
       "    <tr>\n",
       "      <th>2</th>\n",
       "      <td>1587859200</td>\n",
       "      <td>1</td>\n",
       "      <td>3300</td>\n",
       "      <td>25.224727</td>\n",
       "      <td>55.268742</td>\n",
       "      <td>14.603968</td>\n",
       "      <td>15.337697</td>\n",
       "    </tr>\n",
       "    <tr>\n",
       "      <th>3</th>\n",
       "      <td>1364083200</td>\n",
       "      <td>1</td>\n",
       "      <td>3300</td>\n",
       "      <td>25.224727</td>\n",
       "      <td>55.268742</td>\n",
       "      <td>14.603968</td>\n",
       "      <td>15.337697</td>\n",
       "    </tr>\n",
       "    <tr>\n",
       "      <th>4</th>\n",
       "      <td>1196726400</td>\n",
       "      <td>1</td>\n",
       "      <td>3300</td>\n",
       "      <td>25.224727</td>\n",
       "      <td>55.268742</td>\n",
       "      <td>14.926710</td>\n",
       "      <td>15.337697</td>\n",
       "    </tr>\n",
       "  </tbody>\n",
       "</table>\n",
       "</div>"
      ],
      "text/plain": [
       "    timestamp  villa   size   latitude  longitude      price     asking\n",
       "0  1441152000      1  18675  25.245967  55.294998  15.607270  16.813404\n",
       "1  1297555200      1   3600  25.224727  55.268742  14.269765  15.211076\n",
       "2  1587859200      1   3300  25.224727  55.268742  14.603968  15.337697\n",
       "3  1364083200      1   3300  25.224727  55.268742  14.603968  15.337697\n",
       "4  1196726400      1   3300  25.224727  55.268742  14.926710  15.337697"
      ]
     },
     "execution_count": 7,
     "metadata": {},
     "output_type": "execute_result"
    }
   ],
   "source": [
    "data['asking'] = ask_model.predict(X)\n",
    "data.head()"
   ]
  },
  {
   "cell_type": "code",
   "execution_count": 8,
   "id": "e6885372",
   "metadata": {},
   "outputs": [
    {
     "data": {
      "text/html": [
       "<div>\n",
       "<style scoped>\n",
       "    .dataframe tbody tr th:only-of-type {\n",
       "        vertical-align: middle;\n",
       "    }\n",
       "\n",
       "    .dataframe tbody tr th {\n",
       "        vertical-align: top;\n",
       "    }\n",
       "\n",
       "    .dataframe thead th {\n",
       "        text-align: right;\n",
       "    }\n",
       "</style>\n",
       "<table border=\"1\" class=\"dataframe\">\n",
       "  <thead>\n",
       "    <tr style=\"text-align: right;\">\n",
       "      <th></th>\n",
       "      <th>timestamp</th>\n",
       "      <th>villa</th>\n",
       "      <th>size</th>\n",
       "      <th>latitude</th>\n",
       "      <th>longitude</th>\n",
       "      <th>price</th>\n",
       "      <th>asking</th>\n",
       "      <th>rental</th>\n",
       "    </tr>\n",
       "  </thead>\n",
       "  <tbody>\n",
       "    <tr>\n",
       "      <th>0</th>\n",
       "      <td>1441152000</td>\n",
       "      <td>1</td>\n",
       "      <td>18675</td>\n",
       "      <td>25.245967</td>\n",
       "      <td>55.294998</td>\n",
       "      <td>15.607270</td>\n",
       "      <td>16.813404</td>\n",
       "      <td>13.107218</td>\n",
       "    </tr>\n",
       "    <tr>\n",
       "      <th>1</th>\n",
       "      <td>1297555200</td>\n",
       "      <td>1</td>\n",
       "      <td>3600</td>\n",
       "      <td>25.224727</td>\n",
       "      <td>55.268742</td>\n",
       "      <td>14.269765</td>\n",
       "      <td>15.211076</td>\n",
       "      <td>11.818392</td>\n",
       "    </tr>\n",
       "    <tr>\n",
       "      <th>2</th>\n",
       "      <td>1587859200</td>\n",
       "      <td>1</td>\n",
       "      <td>3300</td>\n",
       "      <td>25.224727</td>\n",
       "      <td>55.268742</td>\n",
       "      <td>14.603968</td>\n",
       "      <td>15.337697</td>\n",
       "      <td>12.126193</td>\n",
       "    </tr>\n",
       "    <tr>\n",
       "      <th>3</th>\n",
       "      <td>1364083200</td>\n",
       "      <td>1</td>\n",
       "      <td>3300</td>\n",
       "      <td>25.224727</td>\n",
       "      <td>55.268742</td>\n",
       "      <td>14.603968</td>\n",
       "      <td>15.337697</td>\n",
       "      <td>12.126193</td>\n",
       "    </tr>\n",
       "    <tr>\n",
       "      <th>4</th>\n",
       "      <td>1196726400</td>\n",
       "      <td>1</td>\n",
       "      <td>3300</td>\n",
       "      <td>25.224727</td>\n",
       "      <td>55.268742</td>\n",
       "      <td>14.926710</td>\n",
       "      <td>15.337697</td>\n",
       "      <td>12.126193</td>\n",
       "    </tr>\n",
       "  </tbody>\n",
       "</table>\n",
       "</div>"
      ],
      "text/plain": [
       "    timestamp  villa   size   latitude  longitude      price     asking  \\\n",
       "0  1441152000      1  18675  25.245967  55.294998  15.607270  16.813404   \n",
       "1  1297555200      1   3600  25.224727  55.268742  14.269765  15.211076   \n",
       "2  1587859200      1   3300  25.224727  55.268742  14.603968  15.337697   \n",
       "3  1364083200      1   3300  25.224727  55.268742  14.603968  15.337697   \n",
       "4  1196726400      1   3300  25.224727  55.268742  14.926710  15.337697   \n",
       "\n",
       "      rental  \n",
       "0  13.107218  \n",
       "1  11.818392  \n",
       "2  12.126193  \n",
       "3  12.126193  \n",
       "4  12.126193  "
      ]
     },
     "execution_count": 8,
     "metadata": {},
     "output_type": "execute_result"
    }
   ],
   "source": [
    "data['rental'] = ren_model.predict(X)\n",
    "data.head()"
   ]
  },
  {
   "cell_type": "code",
   "execution_count": 9,
   "id": "6c3f36ca",
   "metadata": {},
   "outputs": [],
   "source": [
    "## define X, y again as we dropped timestamp for rental and asking predictions\n",
    "X = data.drop('price', axis=1)\n",
    "y = data['price']"
   ]
  },
  {
   "cell_type": "code",
   "execution_count": 10,
   "id": "a58c44e8",
   "metadata": {},
   "outputs": [
    {
     "data": {
      "text/plain": [
       "((192250, 7), (192250,), (48063, 7), (48063,))"
      ]
     },
     "execution_count": 10,
     "metadata": {},
     "output_type": "execute_result"
    }
   ],
   "source": [
    "X_train, X_test, y_train, y_test = train_test_split(X, y, test_size=0.2)\n",
    "X_train.shape, y_train.shape, X_test.shape, y_test.shape"
   ]
  },
  {
   "cell_type": "code",
   "execution_count": 12,
   "id": "dbc60599",
   "metadata": {},
   "outputs": [],
   "source": [
    "def print_evaluate(true, predicted):  \n",
    "    mae = metrics.mean_absolute_error(true, predicted)\n",
    "    mse = metrics.mean_squared_error(true, predicted)\n",
    "    rmse = np.sqrt(metrics.mean_squared_error(true, predicted))\n",
    "    r2_square = metrics.r2_score(true, predicted)\n",
    "    print('MAE:', mae)\n",
    "    print('MSE:', mse)\n",
    "    print('RMSE:', rmse)\n",
    "    print('R2 Square', r2_square)\n",
    "    print('__________________________________')"
   ]
  },
  {
   "cell_type": "code",
   "execution_count": 13,
   "id": "b1095e7a",
   "metadata": {},
   "outputs": [
    {
     "data": {
      "text/plain": [
       "XGBRegressor(base_score=0.5, booster='gbtree', colsample_bylevel=1,\n",
       "             colsample_bynode=1, colsample_bytree=1, gamma=0, gpu_id=-1,\n",
       "             importance_type='gain', interaction_constraints='',\n",
       "             learning_rate=0.1, max_delta_step=0, max_depth=10,\n",
       "             min_child_weight=1, missing=nan, monotone_constraints='()',\n",
       "             n_estimators=1010, n_jobs=-1, nthread=-1, num_parallel_tree=1,\n",
       "             random_state=0, reg_alpha=0, reg_lambda=1, scale_pos_weight=1,\n",
       "             subsample=1, tree_method='exact', validate_parameters=1,\n",
       "             verbosity=None)"
      ]
     },
     "execution_count": 13,
     "metadata": {},
     "output_type": "execute_result"
    }
   ],
   "source": [
    "model = XGBRegressor(learning_rate =  0.1,\n",
    "                     max_depth =  10,\n",
    "                     n_estimators = 1010,\n",
    "                     nthread = -1, n_jobs=-1)\n",
    "\n",
    "model.fit(X_train, y_train)"
   ]
  },
  {
   "cell_type": "code",
   "execution_count": 14,
   "id": "63c25823",
   "metadata": {},
   "outputs": [
    {
     "name": "stdout",
     "output_type": "stream",
     "text": [
      "Test set evaluation:\n",
      "_____________________________________\n",
      "MAE: 0.14691797393312972\n",
      "MSE: 0.05657465330567965\n",
      "RMSE: 0.2378542690507775\n",
      "R2 Square 0.9153087328488948\n",
      "__________________________________\n",
      "Train set evaluation:\n",
      "_____________________________________\n",
      "MAE: 0.09577328853920791\n",
      "MSE: 0.020522068261430042\n",
      "RMSE: 0.1432552556153876\n",
      "R2 Square 0.9688217334183427\n",
      "__________________________________\n"
     ]
    }
   ],
   "source": [
    "test_pred = model.predict(X_test)\n",
    "train_pred = model.predict(X_train)\n",
    "\n",
    "print('Test set evaluation:\\n_____________________________________')\n",
    "print_evaluate(y_test, test_pred)\n",
    "\n",
    "print('Train set evaluation:\\n_____________________________________')\n",
    "print_evaluate(y_train, train_pred)"
   ]
  },
  {
   "cell_type": "code",
   "execution_count": 15,
   "id": "e2b46c58",
   "metadata": {},
   "outputs": [
    {
     "data": {
      "image/png": "[encoded data removed]",
      "text/plain": [
       "<Figure size 432x288 with 1 Axes>"
      ]
     },
     "metadata": {},
     "output_type": "display_data"
    }
   ],
   "source": [
    "def plot_features(columns, importances, n=10):\n",
    "    df = (pd.DataFrame({\"features\": columns,\n",
    "                        \"feature_importances\": importances})\n",
    "          .sort_values(\"feature_importances\", ascending=False)\n",
    "          .reset_index(drop=True))\n",
    "    \n",
    "    # Plot the dataframe\n",
    "    fig, ax = plt.subplots()\n",
    "    ax.barh(df[\"features\"][:n], df[\"feature_importances\"][:20])\n",
    "    ax.set_ylabel(\"Features\")\n",
    "    ax.set_xlabel(\"Feature importance\")\n",
    "    ax.invert_yaxis()\n",
    "    \n",
    "    \n",
    "plot_features(X_train.columns, model.feature_importances_)"
   ]
  },
  {
   "cell_type": "markdown",
   "id": "c6ada2cb",
   "metadata": {},
   "source": [
    "## `lets preprocess the data and see if we get better results!`"
   ]
  },
  {
   "cell_type": "code",
   "execution_count": 16,
   "id": "bb9089f8",
   "metadata": {},
   "outputs": [
    {
     "name": "stdout",
     "output_type": "stream",
     "text": [
      "shape of the orignal dataset: (240313, 8)\n",
      "shape after removing outliers: (230453, 8)\n"
     ]
    }
   ],
   "source": [
    "# lets remove the outliers\n",
    "\n",
    "print(f'shape of the orignal dataset: {data.shape}')\n",
    "z_scores = stats.zscore(data)\n",
    "abs_z_scores = np.abs(z_scores)\n",
    "filtered_entries = (abs_z_scores < 3).all(axis=1)\n",
    "new_data = data[filtered_entries]\n",
    "\n",
    "print(f'shape after removing outliers: {new_data.shape}')"
   ]
  },
  {
   "cell_type": "code",
   "execution_count": 18,
   "id": "89dd8da2",
   "metadata": {},
   "outputs": [
    {
     "data": {
      "text/plain": [
       "9860"
      ]
     },
     "execution_count": 18,
     "metadata": {},
     "output_type": "execute_result"
    }
   ],
   "source": [
    "240313-230453"
   ]
  },
  {
   "cell_type": "code",
   "execution_count": 19,
   "id": "6af16f7e",
   "metadata": {},
   "outputs": [
    {
     "data": {
      "text/plain": [
       "<seaborn.axisgrid.FacetGrid at 0x7f70b5b79340>"
      ]
     },
     "execution_count": 19,
     "metadata": {},
     "output_type": "execute_result"
    },
    {
     "data": {
      "image/png": "[encoded data removed]",
      "text/plain": [
       "<Figure size 648x360 with 1 Axes>"
      ]
     },
     "metadata": {},
     "output_type": "display_data"
    }
   ],
   "source": [
    "sns.displot(\n",
    "  data=new_data,\n",
    "  x=\"price\",\n",
    "  kind=\"hist\",\n",
    "  aspect=1.8\n",
    ")"
   ]
  },
  {
   "cell_type": "code",
   "execution_count": 20,
   "id": "e5a6cbbd",
   "metadata": {},
   "outputs": [
    {
     "name": "stdout",
     "output_type": "stream",
     "text": [
      "Test set evaluation:\n",
      "_____________________________________\n",
      "MAE: 0.14610964873491147\n",
      "MSE: 0.05058161736644523\n",
      "RMSE: 0.2249035734852722\n",
      "R2 Square 0.9103608650847306\n",
      "__________________________________\n",
      "Train set evaluation:\n",
      "_____________________________________\n",
      "MAE: 0.09409830823854175\n",
      "MSE: 0.019802110103045535\n",
      "RMSE: 0.14071997051963\n",
      "R2 Square 0.9648972571558634\n",
      "__________________________________\n"
     ]
    }
   ],
   "source": [
    "X = new_data.drop('price', axis=1)\n",
    "y = new_data['price']\n",
    "\n",
    "X_train, X_test, y_train, y_test = train_test_split(X, y, test_size=0.2)\n",
    "\n",
    "model = XGBRegressor(learning_rate =  0.1,\n",
    "                     max_depth =  10,\n",
    "                     n_estimators = 1010,\n",
    "                     nthread = -1, n_jobs=-1)\n",
    "\n",
    "model.fit(X_train, y_train)\n",
    "\n",
    "test_pred = model.predict(X_test)\n",
    "train_pred = model.predict(X_train)\n",
    "\n",
    "\n",
    "print('Train set evaluation:\\n_____________________________________')\n",
    "print_evaluate(y_train, train_pred)\n",
    "print('Test set evaluation:\\n_____________________________________')\n",
    "print_evaluate(y_test, test_pred)"
   ]
  },
  {
   "cell_type": "markdown",
   "id": "47a48ac7",
   "metadata": {},
   "source": [
    "## tune hyperparameters"
   ]
  },
  {
   "cell_type": "code",
   "execution_count": 24,
   "id": "c581fab1",
   "metadata": {},
   "outputs": [
    {
     "name": "stdout",
     "output_type": "stream",
     "text": [
      "Fitting 3 folds for each of 2 candidates, totalling 6 fits\n",
      "0.8922432142767945\n",
      "{'learning_rate': 0.3}\n"
     ]
    }
   ],
   "source": [
    "### Hyperparameters tuning\n",
    "from sklearn.model_selection import GridSearchCV\n",
    "xgb1 = XGBRegressor()\n",
    "parameters = {'learning_rate': [0.3, 0.03, 0.1]}\n",
    "\n",
    "xgb_grid = GridSearchCV(xgb1,\n",
    "                        parameters,\n",
    "                        cv = 3,\n",
    "                        n_jobs = -1,\n",
    "                        verbose=False)\n",
    "\n",
    "xgb_grid.fit(X_train,\n",
    "         y_train)\n",
    "\n",
    "print(xgb_grid.best_score_)\n",
    "print(xgb_grid.best_params_)\n"
   ]
  },
  {
   "cell_type": "code",
   "execution_count": 26,
   "id": "d1e9d13b",
   "metadata": {},
   "outputs": [
    {
     "name": "stdout",
     "output_type": "stream",
     "text": [
      "Fitting 3 folds for each of 3 candidates, totalling 9 fits\n",
      "0.902937673719601\n",
      "{'max_depth': 10}\n"
     ]
    }
   ],
   "source": [
    "parameters = {'max_depth': [5,10,15]}\n",
    "\n",
    "xgb_grid = GridSearchCV(xgb1,\n",
    "                        parameters,\n",
    "                        cv = 3,\n",
    "                        n_jobs = -1,\n",
    "                        verbose=1)\n",
    "\n",
    "xgb_grid.fit(X_train,\n",
    "         y_train)\n",
    "\n",
    "print(xgb_grid.best_score_)\n",
    "print(xgb_grid.best_params_)"
   ]
  },
  {
   "cell_type": "code",
   "execution_count": 27,
   "id": "4c6e0eec",
   "metadata": {},
   "outputs": [
    {
     "name": "stdout",
     "output_type": "stream",
     "text": [
      "Fitting 3 folds for each of 3 candidates, totalling 9 fits\n",
      "0.9054894521858156\n",
      "{'n_estimators': 1000}\n"
     ]
    }
   ],
   "source": [
    "\n",
    "parameters = {'n_estimators': [800,1000,1200]}\n",
    "\n",
    "xgb_grid = GridSearchCV(xgb1,\n",
    "                        parameters,\n",
    "                        cv = 3,\n",
    "                        n_jobs = -1,\n",
    "                        verbose=1)\n",
    "\n",
    "xgb_grid.fit(X_train,\n",
    "         y_train)\n",
    "\n",
    "print(xgb_grid.best_score_)\n",
    "print(xgb_grid.best_params_)"
   ]
  },
  {
   "cell_type": "markdown",
   "id": "25f7110e",
   "metadata": {},
   "source": [
    "which are the same parameters we used "
   ]
  },
  {
   "cell_type": "code",
   "execution_count": null,
   "id": "8491f351",
   "metadata": {},
   "outputs": [],
   "source": []
  }
 ],
 "metadata": {
  "kernelspec": {
   "display_name": "Python 3 (ipykernel)",
   "language": "python",
   "name": "python3"
  },
  "language_info": {
   "codemirror_mode": {
    "name": "ipython",
    "version": 3
   },
   "file_extension": ".py",
   "mimetype": "text/x-python",
   "name": "python",
   "nbconvert_exporter": "python",
   "pygments_lexer": "ipython3",
   "version": "3.8.10"
  }
 },
 "nbformat": 4,
 "nbformat_minor": 5
}
